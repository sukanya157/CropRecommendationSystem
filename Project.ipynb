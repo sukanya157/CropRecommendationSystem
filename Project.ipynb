{
 "cells": [
  {
   "cell_type": "code",
   "execution_count": null,
   "id": "21cb3e0d",
   "metadata": {},
   "outputs": [],
   "source": [
    "#Importing Python Libraries\n",
    "import pandas as pd\n",
    "import numpy as np\n",
    "import matplotlib.pyplot as plt\n",
    "import seaborn as sns\n",
    "from sklearn import tree\n",
    "from sklearn.tree import DecisionTreeClassifier\n",
    "import matplotlib.image as plting"
   ]
  },
  {
   "cell_type": "code",
   "execution_count": null,
   "id": "d349c7bf",
   "metadata": {},
   "outputs": [],
   "source": [
    "#Importing Dataset\n",
    "df=pd.read_csv(\"Crop_recommendation.csv\")\n",
    "df"
   ]
  },
  {
   "cell_type": "code",
   "execution_count": null,
   "id": "926141e8",
   "metadata": {},
   "outputs": [],
   "source": [
    "#HEAD:It gives the data from start index to end index\n",
    "df.head(15)"
   ]
  },
  {
   "cell_type": "code",
   "execution_count": null,
   "id": "a08baeb1",
   "metadata": {},
   "outputs": [],
   "source": [
    "#SHAPE:It gives the info about the rows and columns\n",
    "df.shape\n"
   ]
  },
  {
   "cell_type": "code",
   "execution_count": null,
   "id": "d8b4551c",
   "metadata": {},
   "outputs": [],
   "source": [
    "d=df['label'].values_count()\n",
    "print(d)"
   ]
  },
  {
   "cell_type": "code",
   "execution_count": null,
   "id": "04dc5e80",
   "metadata": {},
   "outputs": [],
   "source": [
    "#DESCRIBE:It gives the mathematical info about the columns\n",
    "df.describe()"
   ]
  },
  {
   "cell_type": "code",
   "execution_count": null,
   "id": "2fa48822",
   "metadata": {},
   "outputs": [],
   "source": []
  },
  {
   "cell_type": "code",
   "execution_count": 43,
   "id": "650207e3",
   "metadata": {},
   "outputs": [
    {
     "data": {
      "text/plain": [
       "N                int64\n",
       "P                int64\n",
       "K                int64\n",
       "temperature    float64\n",
       "humidity       float64\n",
       "ph             float64\n",
       "rainfall       float64\n",
       "label           object\n",
       "dtype: object"
      ]
     },
     "execution_count": 43,
     "metadata": {},
     "output_type": "execute_result"
    }
   ],
   "source": [
    "#DTYPE:It gives the datatype of the columns:\n",
    "df.dtypes"
   ]
  },
  {
   "cell_type": "code",
   "execution_count": 24,
   "id": "77a54fdb",
   "metadata": {},
   "outputs": [
    {
     "data": {
      "text/plain": [
       "N              0\n",
       "P              0\n",
       "K              0\n",
       "temperature    0\n",
       "humidity       0\n",
       "ph             0\n",
       "rainfall       0\n",
       "label          0\n",
       "dtype: int64"
      ]
     },
     "execution_count": 24,
     "metadata": {},
     "output_type": "execute_result"
    }
   ],
   "source": [
    "df.isna().sum()"
   ]
  },
  {
   "cell_type": "code",
   "execution_count": 25,
   "id": "45f3078d",
   "metadata": {},
   "outputs": [
    {
     "data": {
      "text/html": [
       "<div>\n",
       "<style scoped>\n",
       "    .dataframe tbody tr th:only-of-type {\n",
       "        vertical-align: middle;\n",
       "    }\n",
       "\n",
       "    .dataframe tbody tr th {\n",
       "        vertical-align: top;\n",
       "    }\n",
       "\n",
       "    .dataframe thead th {\n",
       "        text-align: right;\n",
       "    }\n",
       "</style>\n",
       "<table border=\"1\" class=\"dataframe\">\n",
       "  <thead>\n",
       "    <tr style=\"text-align: right;\">\n",
       "      <th></th>\n",
       "      <th>N</th>\n",
       "      <th>P</th>\n",
       "      <th>K</th>\n",
       "      <th>temperature</th>\n",
       "      <th>humidity</th>\n",
       "      <th>ph</th>\n",
       "      <th>rainfall</th>\n",
       "    </tr>\n",
       "  </thead>\n",
       "  <tbody>\n",
       "    <tr>\n",
       "      <th>N</th>\n",
       "      <td>1.000000</td>\n",
       "      <td>-0.231460</td>\n",
       "      <td>-0.140512</td>\n",
       "      <td>0.026504</td>\n",
       "      <td>0.190688</td>\n",
       "      <td>0.096683</td>\n",
       "      <td>0.059020</td>\n",
       "    </tr>\n",
       "    <tr>\n",
       "      <th>P</th>\n",
       "      <td>-0.231460</td>\n",
       "      <td>1.000000</td>\n",
       "      <td>0.736232</td>\n",
       "      <td>-0.127541</td>\n",
       "      <td>-0.118734</td>\n",
       "      <td>-0.138019</td>\n",
       "      <td>-0.063839</td>\n",
       "    </tr>\n",
       "    <tr>\n",
       "      <th>K</th>\n",
       "      <td>-0.140512</td>\n",
       "      <td>0.736232</td>\n",
       "      <td>1.000000</td>\n",
       "      <td>-0.160387</td>\n",
       "      <td>0.190859</td>\n",
       "      <td>-0.169503</td>\n",
       "      <td>-0.053461</td>\n",
       "    </tr>\n",
       "    <tr>\n",
       "      <th>temperature</th>\n",
       "      <td>0.026504</td>\n",
       "      <td>-0.127541</td>\n",
       "      <td>-0.160387</td>\n",
       "      <td>1.000000</td>\n",
       "      <td>0.205320</td>\n",
       "      <td>-0.017795</td>\n",
       "      <td>-0.030084</td>\n",
       "    </tr>\n",
       "    <tr>\n",
       "      <th>humidity</th>\n",
       "      <td>0.190688</td>\n",
       "      <td>-0.118734</td>\n",
       "      <td>0.190859</td>\n",
       "      <td>0.205320</td>\n",
       "      <td>1.000000</td>\n",
       "      <td>-0.008483</td>\n",
       "      <td>0.094423</td>\n",
       "    </tr>\n",
       "    <tr>\n",
       "      <th>ph</th>\n",
       "      <td>0.096683</td>\n",
       "      <td>-0.138019</td>\n",
       "      <td>-0.169503</td>\n",
       "      <td>-0.017795</td>\n",
       "      <td>-0.008483</td>\n",
       "      <td>1.000000</td>\n",
       "      <td>-0.109069</td>\n",
       "    </tr>\n",
       "    <tr>\n",
       "      <th>rainfall</th>\n",
       "      <td>0.059020</td>\n",
       "      <td>-0.063839</td>\n",
       "      <td>-0.053461</td>\n",
       "      <td>-0.030084</td>\n",
       "      <td>0.094423</td>\n",
       "      <td>-0.109069</td>\n",
       "      <td>1.000000</td>\n",
       "    </tr>\n",
       "  </tbody>\n",
       "</table>\n",
       "</div>"
      ],
      "text/plain": [
       "                    N         P         K  temperature  humidity        ph  \\\n",
       "N            1.000000 -0.231460 -0.140512     0.026504  0.190688  0.096683   \n",
       "P           -0.231460  1.000000  0.736232    -0.127541 -0.118734 -0.138019   \n",
       "K           -0.140512  0.736232  1.000000    -0.160387  0.190859 -0.169503   \n",
       "temperature  0.026504 -0.127541 -0.160387     1.000000  0.205320 -0.017795   \n",
       "humidity     0.190688 -0.118734  0.190859     0.205320  1.000000 -0.008483   \n",
       "ph           0.096683 -0.138019 -0.169503    -0.017795 -0.008483  1.000000   \n",
       "rainfall     0.059020 -0.063839 -0.053461    -0.030084  0.094423 -0.109069   \n",
       "\n",
       "             rainfall  \n",
       "N            0.059020  \n",
       "P           -0.063839  \n",
       "K           -0.053461  \n",
       "temperature -0.030084  \n",
       "humidity     0.094423  \n",
       "ph          -0.109069  \n",
       "rainfall     1.000000  "
      ]
     },
     "execution_count": 25,
     "metadata": {},
     "output_type": "execute_result"
    }
   ],
   "source": [
    "#Collerattion:It describes about the dependency of the variables\n",
    "corr=df.corr()\n",
    "corr"
   ]
  },
  {
   "cell_type": "code",
   "execution_count": 26,
   "id": "83c3c58b",
   "metadata": {},
   "outputs": [],
   "source": [
    "#Import the sklearn library to train our model\n",
    "from sklearn.model_selection import train_test_split"
   ]
  },
  {
   "cell_type": "code",
   "execution_count": 27,
   "id": "89098bab",
   "metadata": {},
   "outputs": [],
   "source": [
    "#from our model we here by taken the inputs as n,p,k,temperature,humidity,ph,rainfallP\n",
    "x=np.array(df[['N','P','K','temperature','humidity','ph','rainfall']])\n"
   ]
  },
  {
   "cell_type": "code",
   "execution_count": 28,
   "id": "60df4b01",
   "metadata": {},
   "outputs": [],
   "source": [
    "#Here we  are giving the labeling Output:\n",
    "y=np.array(df[[\"label\"]])"
   ]
  },
  {
   "cell_type": "code",
   "execution_count": 29,
   "id": "0e46f186",
   "metadata": {},
   "outputs": [],
   "source": [
    "#Importing the trees from sklearn\n",
    "from sklearn.tree import DecisionTreeClassifier\n",
    "x_train,x_test,y_train,y_test=train_test_split(x,y,test_size=0.2,random_state=3)\n",
    "model_dt=DecisionTreeClassifier()\n"
   ]
  },
  {
   "cell_type": "code",
   "execution_count": 30,
   "id": "ad08640a",
   "metadata": {},
   "outputs": [
    {
     "data": {
      "text/plain": [
       "DecisionTreeClassifier()"
      ]
     },
     "execution_count": 30,
     "metadata": {},
     "output_type": "execute_result"
    }
   ],
   "source": [
    "model_dt.fit(x_train,y_train)"
   ]
  },
  {
   "cell_type": "code",
   "execution_count": 31,
   "id": "2c4e6989",
   "metadata": {},
   "outputs": [
    {
     "data": {
      "text/plain": [
       "0.990909090909091"
      ]
     },
     "execution_count": 31,
     "metadata": {},
     "output_type": "execute_result"
    }
   ],
   "source": [
    "#Finding the accuracy about the test:\n",
    "model_dt.score(x_test,y_test)"
   ]
  },
  {
   "cell_type": "code",
   "execution_count": 32,
   "id": "beaf1eb8",
   "metadata": {},
   "outputs": [
    {
     "data": {
      "text/plain": [
       "1.0"
      ]
     },
     "execution_count": 32,
     "metadata": {},
     "output_type": "execute_result"
    }
   ],
   "source": [
    "#Finding the accuracy about the training:\n",
    "model_dt.score(x_train,y_train)"
   ]
  },
  {
   "cell_type": "code",
   "execution_count": null,
   "id": "7009c1a5",
   "metadata": {},
   "outputs": [],
   "source": [
    "#Giving the input to predict the suitable crop based upon the conditions:\n",
    "data=np.array([[107,34,32,26.774637,66.413269,6.780064,177.774507]])\n",
    "model_dt.predict(data)"
   ]
  }
 ],
 "metadata": {
  "kernelspec": {
   "display_name": "Python 3 (ipykernel)",
   "language": "python",
   "name": "python3"
  },
  "language_info": {
   "codemirror_mode": {
    "name": "ipython",
    "version": 3
   },
   "file_extension": ".py",
   "mimetype": "text/x-python",
   "name": "python",
   "nbconvert_exporter": "python",
   "pygments_lexer": "ipython3",
   "version": "3.9.12"
  }
 },
 "nbformat": 4,
 "nbformat_minor": 5
}
